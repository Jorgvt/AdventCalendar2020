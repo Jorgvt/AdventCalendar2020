{
 "metadata": {
  "language_info": {
   "codemirror_mode": {
    "name": "ipython",
    "version": 3
   },
   "file_extension": ".py",
   "mimetype": "text/x-python",
   "name": "python",
   "nbconvert_exporter": "python",
   "pygments_lexer": "ipython3",
   "version": "3.8.5-final"
  },
  "orig_nbformat": 2,
  "kernelspec": {
   "name": "python3",
   "display_name": "Python 3.8.5 64-bit ('Master': conda)",
   "metadata": {
    "interpreter": {
     "hash": "57d46a1f3f975f92cc34d815bf69a7d3644582cc16f1cedc66cb95f17202c91e"
    }
   }
  }
 },
 "nbformat": 4,
 "nbformat_minor": 2,
 "cells": [
  {
   "source": [
    "# First Half"
   ],
   "cell_type": "markdown",
   "metadata": {}
  },
  {
   "cell_type": "code",
   "execution_count": 1,
   "metadata": {},
   "outputs": [],
   "source": [
    "mapa = []\n",
    "with open(\"input.txt\", \"r\") as f:\n",
    "    for line in f:\n",
    "        mapa.append(line.splitlines()[0])"
   ]
  },
  {
   "cell_type": "code",
   "execution_count": 2,
   "metadata": {},
   "outputs": [
    {
     "output_type": "execute_result",
     "data": {
      "text/plain": [
       "(262, 61)"
      ]
     },
     "metadata": {},
     "execution_count": 2
    }
   ],
   "source": [
    "pos = 0\n",
    "\n",
    "trees = 0\n",
    "non_trees = 0\n",
    "\n",
    "for line in mapa:\n",
    "    current = line[pos % len(mapa[0])]\n",
    "    if current == \"#\":\n",
    "        trees += 1\n",
    "    else:\n",
    "        non_trees += 1\n",
    "    pos += 3\n",
    "\n",
    "trees, non_trees"
   ]
  },
  {
   "source": [
    "# Second Half"
   ],
   "cell_type": "markdown",
   "metadata": {}
  },
  {
   "cell_type": "code",
   "execution_count": 3,
   "metadata": {},
   "outputs": [],
   "source": [
    "import math"
   ]
  },
  {
   "cell_type": "code",
   "execution_count": 4,
   "metadata": {},
   "outputs": [],
   "source": [
    "def dive(slope, v):\n",
    "    pos = 0\n",
    "\n",
    "    trees = 0\n",
    "    non_trees = 0\n",
    "\n",
    "    for i, line in enumerate(mapa):\n",
    "        if i % v != 0:\n",
    "            continue\n",
    "        current = line[pos % len(mapa[0])]\n",
    "        if current == \"#\":\n",
    "            trees += 1\n",
    "        else:\n",
    "            non_trees += 1\n",
    "        pos += slope\n",
    "\n",
    "    return trees, non_trees"
   ]
  },
  {
   "cell_type": "code",
   "execution_count": 5,
   "metadata": {},
   "outputs": [
    {
     "output_type": "stream",
     "name": "stdout",
     "text": [
      "Trees: 78 / Non Trees: 245\nTrees: 262 / Non Trees: 61\nTrees: 66 / Non Trees: 257\nTrees: 69 / Non Trees: 254\nTrees: 29 / Non Trees: 133\n"
     ]
    },
    {
     "output_type": "execute_result",
     "data": {
      "text/plain": [
       "(2698900776, 129752101430)"
      ]
     },
     "metadata": {},
     "execution_count": 5
    }
   ],
   "source": [
    "trees = []\n",
    "non_trees = []\n",
    "\n",
    "slopes = [1, 3, 5, 7, 1]\n",
    "v_slopes = [1, 1, 1, 1, 2]\n",
    "for i,v in zip(slopes, v_slopes):\n",
    "    t, n_t = dive(i, v)\n",
    "    print(f\"Trees: {t} / Non Trees: {n_t}\")\n",
    "    trees.append(t)\n",
    "    non_trees.append(n_t)\n",
    "math.prod(trees), math.prod(non_trees)"
   ]
  }
 ]
}