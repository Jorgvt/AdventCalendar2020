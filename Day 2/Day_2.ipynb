{
 "metadata": {
  "language_info": {
   "codemirror_mode": {
    "name": "ipython",
    "version": 3
   },
   "file_extension": ".py",
   "mimetype": "text/x-python",
   "name": "python",
   "nbconvert_exporter": "python",
   "pygments_lexer": "ipython3",
   "version": "3.8.5-final"
  },
  "orig_nbformat": 2,
  "kernelspec": {
   "name": "python3",
   "display_name": "Python 3.8.5 64-bit ('Master': conda)",
   "metadata": {
    "interpreter": {
     "hash": "57d46a1f3f975f92cc34d815bf69a7d3644582cc16f1cedc66cb95f17202c91e"
    }
   }
  }
 },
 "nbformat": 4,
 "nbformat_minor": 2,
 "cells": [
  {
   "source": [
    "# First half"
   ],
   "cell_type": "markdown",
   "metadata": {}
  },
  {
   "cell_type": "code",
   "execution_count": 1,
   "metadata": {},
   "outputs": [],
   "source": [
    "#import re"
   ]
  },
  {
   "cell_type": "code",
   "execution_count": 12,
   "metadata": {
    "tags": []
   },
   "outputs": [
    {
     "output_type": "execute_result",
     "data": {
      "text/plain": [
       "517"
      ]
     },
     "metadata": {},
     "execution_count": 12
    }
   ],
   "source": [
    "passwords = []\n",
    "correct = 0\n",
    "\n",
    "with open(\"input.txt\", \"r\") as f:\n",
    "    for line in f:\n",
    "        #First we find the min and max occurences\n",
    "        min_max = re.findall(r\"\\d+\", line)\n",
    "\n",
    "        #Now we split to find which letter to look for and the password\n",
    "        letter, password = line.split(\": \")\n",
    "        letter = letter[-1]\n",
    "\n",
    "        count = password.count(letter)\n",
    "        if count >= int(min_max[0]) and count <= int(min_max[1]):\n",
    "            correct += 1\n",
    "        passwords.append(line)\n",
    "correct"
   ]
  },
  {
   "source": [
    "# Second half"
   ],
   "cell_type": "markdown",
   "metadata": {}
  },
  {
   "cell_type": "code",
   "execution_count": 20,
   "metadata": {},
   "outputs": [
    {
     "output_type": "execute_result",
     "data": {
      "text/plain": [
       "284"
      ]
     },
     "metadata": {},
     "execution_count": 20
    }
   ],
   "source": [
    "passwords = []\n",
    "correct = 0\n",
    "\n",
    "with open(\"input.txt\", \"r\") as f:\n",
    "    for line in f:\n",
    "        #First we find the min and max occurences\n",
    "        min_max = re.findall(r\"\\d+\", line)\n",
    "\n",
    "        #Now we split to find which letter to look for and the password\n",
    "        letter, password = line.split(\": \")\n",
    "        letter = letter[-1]\n",
    "\n",
    "        #We can make use of the ^ (XOR) operator. Gives True when comparing different things.\n",
    "        if (password[int(min_max[0])-1] == letter) ^ (password[int(min_max[1])-1] == letter): \n",
    "            correct += 1\n",
    "        passwords.append(line)\n",
    "correct"
   ]
  }
 ]
}