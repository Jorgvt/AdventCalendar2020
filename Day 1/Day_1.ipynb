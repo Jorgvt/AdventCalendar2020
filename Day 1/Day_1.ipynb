{
 "metadata": {
  "language_info": {
   "codemirror_mode": {
    "name": "ipython",
    "version": 3
   },
   "file_extension": ".py",
   "mimetype": "text/x-python",
   "name": "python",
   "nbconvert_exporter": "python",
   "pygments_lexer": "ipython3",
   "version": "3.8.5-final"
  },
  "orig_nbformat": 2,
  "kernelspec": {
   "name": "python3",
   "display_name": "Python 3"
  }
 },
 "nbformat": 4,
 "nbformat_minor": 2,
 "cells": [
  {
   "cell_type": "code",
   "execution_count": 20,
   "metadata": {},
   "outputs": [],
   "source": [
    "import numpy as np\n",
    "from itertools import combinations"
   ]
  },
  {
   "source": [
    "# Importing the data\n",
    "First we start by importing the data with numpy"
   ],
   "cell_type": "markdown",
   "metadata": {}
  },
  {
   "cell_type": "code",
   "execution_count": 4,
   "metadata": {},
   "outputs": [],
   "source": [
    "data = np.loadtxt(\"input.txt\")"
   ]
  },
  {
   "source": [
    "# Combinations\n",
    "We want to find the combinations of 2 numbers that sum 2020 and report their multiplication. The fastest way to deal with that is using the ```combinations``` function in the ```itertools``` module. It allows us to create every combination of entries and we can check which combination satisfies the condition stablished:"
   ],
   "cell_type": "markdown",
   "metadata": {}
  },
  {
   "cell_type": "code",
   "execution_count": 26,
   "metadata": {},
   "outputs": [],
   "source": [
    "comb = combinations(data, 2)"
   ]
  },
  {
   "cell_type": "code",
   "execution_count": 27,
   "metadata": {},
   "outputs": [
    {
     "output_type": "stream",
     "name": "stdout",
     "text": [
      "712075.0\n"
     ]
    }
   ],
   "source": [
    "for pair in list(comb):\n",
    "    if sum(pair) == 2020:\n",
    "        print(pair[0]*pair[1])"
   ]
  },
  {
   "source": [
    "Now we have to repeat the same procedure but using combinations of 3 entires instead of 2. The change is very easy to implement thanks to the usage of the ```combinations``` function:"
   ],
   "cell_type": "markdown",
   "metadata": {}
  },
  {
   "cell_type": "code",
   "execution_count": 21,
   "metadata": {},
   "outputs": [],
   "source": [
    "comb = combinations(data, 3)"
   ]
  },
  {
   "cell_type": "code",
   "execution_count": 22,
   "metadata": {},
   "outputs": [
    {
     "output_type": "stream",
     "name": "stdout",
     "text": [
      "145245270.0\n"
     ]
    }
   ],
   "source": [
    "for pair in list(comb):\n",
    "    if sum(pair) == 2020:\n",
    "        print(pair[0]*pair[1]*pair[2])"
   ]
  }
 ]
}